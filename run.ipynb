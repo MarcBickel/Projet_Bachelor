{
 "cells": [
  {
   "cell_type": "markdown",
   "metadata": {},
   "source": [
    "# Final results \n",
    "To reproduce the final results, run the cells in the notebook. Keep in mind the model has to be trained again, as it was too heavy to store in the repo. Also, since the validation set is randomly determined, the results may vary from the ones presented in the final report. "
   ]
  },
  {
   "cell_type": "code",
   "execution_count": 1,
   "metadata": {},
   "outputs": [
    {
     "name": "stdout",
     "output_type": "stream",
     "text": [
      "Imports and start of openpose success !\n"
     ]
    }
   ],
   "source": [
    "from final_output import *\n",
    "from normalization import *\n",
    "from attention_level_attribution import *\n",
    "from cross_validation import *\n",
    "from validation import *\n",
    "from interpolation import *"
   ]
  },
  {
   "cell_type": "code",
   "execution_count": 2,
   "metadata": {},
   "outputs": [
    {
     "name": "stdout",
     "output_type": "stream",
     "text": [
      "Successfully imported the excel file\n",
      "The matrix containing all the keypoints has shape (32890, 77)\n",
      "linear interpolation done\n",
      "appended ids and ys\n",
      "(31710, 77)\n",
      "normalized data\n"
     ]
    },
    {
     "data": {
      "application/vnd.jupyter.widget-view+json": {
       "model_id": "",
       "version_major": 2,
       "version_minor": 0
      },
      "text/plain": [
       "HBox(children=(IntProgress(value=0, description='Epoch', max=10, style=ProgressStyle(description_width='initia…"
      ]
     },
     "metadata": {},
     "output_type": "display_data"
    },
    {
     "name": "stdout",
     "output_type": "stream",
     "text": [
      "\r"
     ]
    }
   ],
   "source": [
    "final_model = train_NN_def()\n",
    "predict_from_image('pierre02_00001.jpg', 'output.jpg', final_model)"
   ]
  }
 ],
 "metadata": {
  "kernelspec": {
   "display_name": "Python 3",
   "language": "python",
   "name": "python3"
  },
  "language_info": {
   "codemirror_mode": {
    "name": "ipython",
    "version": 3
   },
   "file_extension": ".py",
   "mimetype": "text/x-python",
   "name": "python",
   "nbconvert_exporter": "python",
   "pygments_lexer": "ipython3",
   "version": "3.6.5"
  }
 },
 "nbformat": 4,
 "nbformat_minor": 2
}
